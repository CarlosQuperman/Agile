{
  "nbformat": 4,
  "nbformat_minor": 0,
  "metadata": {
    "colab": {
      "provenance": []
    },
    "kernelspec": {
      "name": "python3",
      "display_name": "Python 3"
    },
    "language_info": {
      "name": "python"
    }
  },
  "cells": [
    {
      "cell_type": "markdown",
      "source": [
        "### 강원도 상가(상권) 데이터를 활용한 데이터 구조화 및 시각화\n",
        "\n",
        "- 이번 시간에는 전국 상가(상권) 정보 중 강원도 데이터 파일을 활용하여\n",
        "- 강원도 내 상권 정보 파일을 목적에 맞게 구조화하고\n",
        "- 이를 지도로 시각화하는 과정을 수행해보겠습니다."
      ],
      "metadata": {
        "id": "_duXLgU-CMeK"
      }
    },
    {
      "cell_type": "code",
      "source": [
        "#이 프로그래밍 코드가 구글 드라이브에 접근할 수 있도록 허락해주는 코드\n",
        "#간단한 클릭으로도 해결할 수 있다.\n",
        "\n",
        "from google.colab import drive\n",
        "drive.mount('/content/drive')"
      ],
      "metadata": {
        "id": "HaOutq01C1fZ"
      },
      "execution_count": null,
      "outputs": []
    },
    {
      "cell_type": "markdown",
      "metadata": {
        "id": "wFtwaGK3wZD9"
      },
      "source": [
        "### 강원도 빵집 중 파리바게뜨와 뚜레주르의 개수를 알고 지도로 시각화하기\n",
        "\n",
        "- 강원도 상권 데이터를 pandas를 활용해 데이터 프레임에 저장하고\n",
        "- 필요한 형태로 전처리한 후\n",
        "- 강원도 파리바게뜨와 뚜레쥬르를 지도에서 시각화는 활동을 수행해보자.\n"
      ]
    },
    {
      "cell_type": "markdown",
      "metadata": {
        "id": "Fd-8An2uxCfc"
      },
      "source": [
        "### 1. 문제 상황 분석\n",
        "\n",
        "* (1) 먼저 우리가 작업을 하는데 필요한 파일을 불러오고 그 파일이 가진 데이터의 개수와 종료를 확인해보자.\n",
        "* 파이썬은 프로그래밍을 위한 다양한 도구가 있으며 도구를 불러올 때는 import를 불러온 도구의 이름이 너무 길때는 as로 줄여준다.\n",
        "* 파일을 불러올 때 효과적인 도구는 판다스(pandas)로 보통 pd로 줄여서 쓴다.\n",
        "* pd의 이름을 정확하게 써주자!\n"
      ]
    },
    {
      "cell_type": "code",
      "metadata": {
        "id": "5HjNhkCfwHFU"
      },
      "source": [
        "import pandas as pd\n",
        "import matplotlib.pyplot as plt\n",
        "\n",
        "pd.set_option('display.max_rows', None) #줄이 안짤리게 최대로 출력하게 하는 코드\n",
        "\n",
        "kang_shop = pd.read_csv(\"\") ### df에 판다스에 있는 도구 중 read_csv를 사용해 선생님이 준비한 강원도 상가(상권) 데이터를 가져와 저장함\n",
        "display(kang_shop.info())\n",
        "display(kang_shop.head()) #처음부터 확인할 데이터의 개수 입력하기"
      ],
      "execution_count": null,
      "outputs": []
    },
    {
      "cell_type": "markdown",
      "source": [
        "### 데이터를 설명하는 종류(열-cols)가 너무 많다!!!!\n",
        "\n",
        "- 우리에게 필요한 열만 추출해서 별도의 데이터프레임(판다스에서 표를 처리하는 단위)을 만들고 이를 확인해보자!\n",
        "- 가게의 이름, 가게가 소속된 시군구, 업소의 종류, 도로명 주소, 위도, 경도값만 추출해보자!"
      ],
      "metadata": {
        "id": "qHx3P7DGPUL7"
      }
    },
    {
      "cell_type": "code",
      "source": [
        "cols = ['','시군구명','','','위도','']\n",
        "#조건을 만족하는 cols만 뽑아와 kang_shop2에 복사해주기\n",
        "kang_shop_2 = kang_shop[].copy()\n",
        "display(kang_shop_2.head())\n",
        "display(kang_shop_2.info())"
      ],
      "metadata": {
        "id": "dQ6Uk2QUFdtd"
      },
      "execution_count": null,
      "outputs": []
    },
    {
      "cell_type": "markdown",
      "metadata": {
        "id": "Tav-GjrizXNT"
      },
      "source": [
        "* (2) 그런데 생각해보니 파리바게트와 뚜레주르는 이름이 전부 동일할까?\n",
        "\n",
        "- 이를 프로그램 코드로 확인해보자.\n"
      ]
    },
    {
      "cell_type": "code",
      "metadata": {
        "id": "Tn-ss_LEzo-r"
      },
      "source": [
        "name = input(\"검색할 사업장명 키워드를 입력하세요\")\n",
        "\n",
        "print(kang_shop_2.loc[kang_shop_2['상호명'].str.contains(name),\"상호명\"])\n",
        "print(kang_shop_2[kang_shop_2['상호명'].str.contains(name)].shape)"
      ],
      "execution_count": null,
      "outputs": []
    },
    {
      "cell_type": "code",
      "metadata": {
        "id": "KYs68vyr1gsc"
      },
      "source": [
        "pari = ['파리바게트','파리바게뜨','파리바케트']\n",
        "ddu = ['뚜래주르','뚜레주르','뚜레쥬르']\n",
        "\n",
        "# 사업장명에 있는 이름을 바꾸는건 번거로움\n",
        "# 그래서 새로운 데이터의 종류인 '(브랜드명)'을 나중에 cols에 만들어 주자!\n"
      ],
      "execution_count": null,
      "outputs": []
    },
    {
      "cell_type": "markdown",
      "metadata": {
        "id": "LeTO1kCI4cPG"
      },
      "source": [
        "(3) 비어있는 곳의 값 처리해주기\n",
        "\n",
        "- 비어있는 값을 그냥 그대로 두면\n",
        "- 나중에 우리가 원하는 값을 뽑고 시각화 할때 문제가 생긴다.\n",
        "- 비어있는 값을 해결해주자!"
      ]
    },
    {
      "cell_type": "code",
      "metadata": {
        "id": "isgBXttc44ap"
      },
      "source": [
        "kang_shop_2 = kang_shop_2.fillna(0) ###비어 있는 공간을 0으로 채워준다\n",
        "kang_shop_2.info()"
      ],
      "execution_count": null,
      "outputs": []
    },
    {
      "cell_type": "markdown",
      "metadata": {
        "id": "f1cqYwA649yr"
      },
      "source": [
        "### 정보의 구조화\n",
        "\n",
        "* 이제 수집과 분석된 데이터를 토대로 영업중인 가게의 중복 문제와 파리바게뜨의 수와 뚜레쥬르의 수를 구해보자."
      ]
    },
    {
      "cell_type": "markdown",
      "metadata": {
        "id": "8i3KymtQ6QKZ"
      },
      "source": [
        "* (1) 이제 중복된 상표를 통일시켜주자.\n",
        "* 브랜드명이라는 곳을 만들고 파리바게뜨, 파리바게트, 파리바케트의 브랜드명을 모두 파리바게뜨로\n",
        "* 브랜드명이라는 곳을 만들고 뚜래주르, 뚜레주르, 뚜레쥬르의 브랜드명을 모두 뚜레쥬르로 통일 시켜주자.\n",
        "* 결과를 확인해보자."
      ]
    },
    {
      "cell_type": "code",
      "metadata": {
        "id": "JC83OZ9u5R35"
      },
      "source": [
        "#df의 위치에서 df의 사업장명이 파리바게뜨 또는 뚜레쥬르를 나타내면 이를 \"브랜드명\"을 만들고 이 브랜드명에서 통일시켜줌\n",
        "\n",
        "kang_shop_2.loc[kang_shop_2[\"상호명\"].str.contains(\"파리바게뜨|파리바게트|\"),\"\"] = \"파리바게뜨\" ### 사업장명이 파리바게뜨 또는 파리바게트 또는 파리바케트라면 브랜드명을 파리바게뜨로 통일시켜 저장함\n",
        "kang_shop_2.loc[kang_shop_2[\"상호명\"].str.contains(\"뚜래주르||뚜레쥬르\"),\"브랜드명\"] = \"\" ### 사업장명이 뚜래주르 또는 뚜레주르 또는 뚜레쥬르라면 브랜드명을 뚜레쥬르로 통일시켜 저장함"
      ],
      "execution_count": null,
      "outputs": []
    },
    {
      "cell_type": "code",
      "metadata": {
        "id": "F-eNssTb60aw"
      },
      "source": [
        "kang_shop_2.info()"
      ],
      "execution_count": null,
      "outputs": []
    },
    {
      "cell_type": "code",
      "metadata": {
        "id": "kETyIu8g7kHp"
      },
      "source": [
        "name = input(\"검색할 사업장명 키워드를 입력하세요\")\n",
        "print(kang_shop_2.loc[kang_shop_2[''].str.contains(name),\"\"])\n",
        "print(kang_shop_2[kang_shop_2['상호명'].str.contains(name)].shape)"
      ],
      "execution_count": null,
      "outputs": []
    },
    {
      "cell_type": "markdown",
      "metadata": {
        "id": "CJpE3orV77Wf"
      },
      "source": [
        "### (2) 파리바게뜨, 뚜레쥬르의 데이터만 따로 저장해주기\n",
        "\n",
        "- 우리가 알고 싶은건 파리바게뜨, 뚜레쥬르의 정보이기 때문에\n",
        "- 전체 데이터에서 브랜드명이 파리바게뜨, 뚜레쥬르인 값만 뽑아서\n",
        "- 따로 저장해주자"
      ]
    },
    {
      "cell_type": "code",
      "metadata": {
        "id": "6no59JSl8LLG"
      },
      "source": [
        "flag1 = kang_shop_2['브랜드명']==''\n",
        "flag2 = kang_shop_2['브랜드명']=='' ### 브랜드명이 뚜레쥬르인 조건을 flag2에 설정하기\n",
        "\n",
        "kang_shop_2_new = kang_shop_2[flag1|flag2].copy()"
      ],
      "execution_count": null,
      "outputs": []
    },
    {
      "cell_type": "code",
      "metadata": {
        "id": "8gUMq4n98W9X"
      },
      "source": [
        "kang_shop_2_new.info()"
      ],
      "execution_count": null,
      "outputs": []
    },
    {
      "cell_type": "code",
      "metadata": {
        "id": "Wu5OHGIb8Tcz"
      },
      "source": [
        "display(kang_shop_2_new [].info())\n",
        "display(kang_shop_2_new [])"
      ],
      "execution_count": null,
      "outputs": []
    },
    {
      "cell_type": "code",
      "metadata": {
        "id": "GUUBTaDh8VoN"
      },
      "source": [
        "display(kang_shop_2_new[].info())\n",
        "display(kang_shop_2_new[])"
      ],
      "execution_count": null,
      "outputs": []
    },
    {
      "cell_type": "markdown",
      "metadata": {
        "id": "o4PBb9Hw9HJW"
      },
      "source": [
        "### 4. 정보의 시각화\n",
        "\n",
        "- 이제 우리는 kang_shop_2_new안에 들어있는 정보를 토대로\n",
        "- 강원도내 파리바게트, 뚜레주르 지도를 만들어보자\n",
        "- 지도를 만들기 위해서는 어떻게 해야 할까?\n",
        "- kang_shop_2_new를 처음부터 끝까지 한줄씩 돌면서 위도와 경도값을 이용하여 지도에 표시해주고 (위도와 경도가 0이 아니면)\n",
        "- 지도를 표시해주는 마커에 정보를 담아주면 된다."
      ]
    },
    {
      "cell_type": "markdown",
      "metadata": {
        "id": "NnUEHPtZ9arG"
      },
      "source": [
        "(1) 지도 정보 확인하기\n",
        "\n",
        "- 지도 시각화의 구조를 알기 위해\n",
        "- 강원사대부고의 위도, 경도와 정보를 입력하면\n",
        "- 이를 지도에 표시하는 시각화를 진행해보자."
      ]
    },
    {
      "cell_type": "code",
      "metadata": {
        "id": "t2lgP2WK9aHu"
      },
      "source": [
        "import folium # 포리움 라이브러리\n",
        "\n",
        "m = folium.Map([37.87318902604981, 127.74950156136796]) #지도의 시작값을 지정하고 만들어줌\n",
        "folium.Marker([37.87318902604981, 127.74950156136796], popup='우리학교', tooltip=\"짱\").add_to(m) ### 팝업은? () 툴팁은? ()\n",
        "m"
      ],
      "execution_count": null,
      "outputs": []
    },
    {
      "cell_type": "markdown",
      "metadata": {
        "id": "yowU3XA5-J9-"
      },
      "source": [
        "(2) 한줄씩 돌면서 위도와 경도 값에 따라 마커를 만들어주고 누르면 주소가 마우스 올려놓으면 가게 이름이 뜨는 지도 만들기\n",
        "\n",
        "- 이제 df_new를 한줄씩 돌면서\n",
        "- 위도와 경도값을 가져와 저장하고 (위도와 경도가 0이 아니면)\n",
        "- 마우스를 올려놓으면 사업장명이, 클릭하면 소재지도로명주소 주소가 나오는 지도를 만들어보자"
      ]
    },
    {
      "cell_type": "code",
      "metadata": {
        "id": "bnimvRz--X5v"
      },
      "source": [
        "m = folium.Map([37.87318902604981, 127.74950156136796],zoom_start=20) #지도의 시작값과 확대 정도를 지정하고 만들어줌\n",
        "\n",
        "for i in kang_shop_2_new.index : #위치번호(index)로 처음부터 끝까지 돌면서\n",
        "  if kang_shop_2_new.loc[i,'위도']!='' and kang_shop_2_new.loc[i,'경도']!='': ### 위도와 경도가 둘 다 0이 아니면을 나타내도록\n",
        "    ### 우리가 필요한 정보는 위도, 경도, 상호명, 주소\n",
        "    lat = kang_shop_2_new.loc[i,'']\n",
        "    lon = kang_shop_2_new.loc[i,'']\n",
        "    title = kang_shop_2_new.loc[i,'']\n",
        "    address = kang_shop_2_new.loc[i,'']\n",
        "\n",
        "    icon_color = '' ###색지정(파란색으로)\n",
        "\n",
        "    folium.Marker([lat,lon], popup=address, tooltip=title,icon=folium.Icon(color=icon_color)).add_to(m)\n",
        "\n",
        "m"
      ],
      "execution_count": null,
      "outputs": []
    },
    {
      "cell_type": "markdown",
      "metadata": {
        "id": "Gbr2tl24-7Od"
      },
      "source": [
        "(3) 파리바게뜨와 뚜레쥬르의 색깔 구별해주기\n",
        "\n",
        "- 우리가 위에서 만든 지도는 파리바게뜨와 뚜레쥬르의 색깔이 똑같아서 구별하기가 쉽지 않다.\n",
        "- 파리바게뜨는 파란색으로 뚜레쥬르는 녹색으로 색깔을 다르게 설정해주는 프로그래밍을 수행해보자."
      ]
    },
    {
      "cell_type": "code",
      "metadata": {
        "id": "NzuunCun_FuX"
      },
      "source": [
        "m = folium.Map([37.87318902604981, 127.74950156136796],zoom_start=20) #지도의 시작값과 확대 정도를 지정하고 만들어줌\n",
        "\n",
        "for i in kang_shop_2_new.index : #위치번호(index)로 처음부터 끝까지 돌면서\n",
        "  if kang_shop_2_new.loc[i,'위도']!='0' and kang_shop_2_new.loc[i,'경도']!='0':\n",
        "    ### 우리가 필요한 정보는 위도, 경도, 상호명, 주소\n",
        "    lat = kang_shop_2_new.loc[i,'위도']\n",
        "    lon = kang_shop_2_new.loc[i,'경도']\n",
        "    title = kang_shop_2_new.loc[i,'']\n",
        "    brand = kang_shop_2_new.loc[i,''] #통일된 브랜드명이 필요해서 설정\n",
        "    address = kang_shop_2_new.loc[i,'도로명주소']\n",
        "\n",
        "    icon_color = '' ###색지정(파란색으로)\n",
        "\n",
        "    ### 만약 브랜드명이 뚜레쥬르면 색깔을 녹색(green)으로 지정\n",
        "    if  brand == '':\n",
        "      icon_color = ''\n",
        "\n",
        "    folium.Marker([lat,lon], popup=address, tooltip=title,icon=folium.Icon(color=icon_color)).add_to(m)\n",
        "\n",
        "m"
      ],
      "execution_count": null,
      "outputs": []
    },
    {
      "cell_type": "markdown",
      "source": [
        "### 그런데...\n",
        "\n",
        "* 가게들의 수가 너무 많으면 한눈에 정보가 안들어온다\n",
        "* 우리가 지도를 이용해 시각화를 하는 이유는 특정 정보가 들어있는 지역의 위치와 범위의 값을 알기 위해서이다.\n",
        "* 특정 지역에 있는 가게의 수를 알기 위해 이번에는 마커클러스터를 활용해보자!"
      ],
      "metadata": {
        "id": "-EGElf-mRJZD"
      }
    },
    {
      "cell_type": "code",
      "source": [
        "from folium.plugins import MarkerCluster  #1. MarkerCluster 모듈 불러오기\n",
        "\n",
        "m = folium.Map([37.87318902604981, 127.74950156136796],zoom_start=20) #지도의 시작값과 확대 정도를 지정하고 만들어줌\n",
        "marker_cluster = MarkerCluster().add_to() #2. MarkerCluster에 m 추가\n",
        "\n",
        "for i in kang_shop_2_new.index : #위치번호(index)로 처음부터 끝까지 돌면서\n",
        "  if kang_shop_2_new.loc[i,'위도']!='0' and kang_shop_2_new.loc[i,'경도']!='0':\n",
        "    ### 우리가 필요한 정보는 위도, 경도, 상호명, 주소\n",
        "    lat = kang_shop_2_new.loc[i,'위도']\n",
        "    lon = kang_shop_2_new.loc[i,'경도']\n",
        "    title = kang_shop_2_new.loc[i,'상호명']\n",
        "    brand = kang_shop_2_new.loc[i,'브랜드명'] #통일된 브랜드명이 필요해서 설정\n",
        "    address = kang_shop_2_new.loc[i,'도로명주소']\n",
        "\n",
        "    icon_color = 'blue' ###색지정(파란색으로)\n",
        "\n",
        "    ### 만약 브랜드명이 뚜레쥬르면 색깔을 녹색(green)으로 지정\n",
        "    if  brand == '뚜레쥬르':\n",
        "      icon_color = 'green'\n",
        "\n",
        "    folium.Marker([lat,lon], popup=address, tooltip=title,icon=folium.Icon(color=icon_color)).add_to()\n",
        "    #add_to 값에 maker_cluster 추가해주기\n",
        "\n",
        "m"
      ],
      "metadata": {
        "id": "GbukPAZPORE9"
      },
      "execution_count": null,
      "outputs": []
    },
    {
      "cell_type": "code",
      "metadata": {
        "id": "_WIeffas_nvJ"
      },
      "source": [
        "#지도를 html 파일로 저장하기 위해 파일 경로 입력\n",
        "m.save('') #위에서 만들어진 지도를 파일로 저장"
      ],
      "execution_count": null,
      "outputs": []
    }
  ]
}